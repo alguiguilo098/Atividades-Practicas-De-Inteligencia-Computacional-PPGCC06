{
 "cells": [
  {
   "cell_type": "code",
   "execution_count": 1,
   "metadata": {},
   "outputs": [],
   "source": [
    "from Utils import *\n",
    "import glob as gl"
   ]
  },
  {
   "cell_type": "markdown",
   "metadata": {},
   "source": [
    "Etapa A"
   ]
  },
  {
   "cell_type": "code",
   "execution_count": 2,
   "metadata": {},
   "outputs": [],
   "source": [
    "# Load images\n",
    "# Using glob to load images from folders\n",
    "path_circles=gl.glob(\"./Formas/circle/*.png\")\n",
    "path_square=gl.glob(\"./Formas/square/*.png\")\n",
    "path_triangule=gl.glob(\"./Formas/triangle/*.png\")\n",
    "path_star=gl.glob(\"./Formas/star/*.png\")\n",
    "\n",
    "# Get all imagems\n",
    "# Read images and convert to numpy arrays \n",
    "imagens_circles = [np.array(mpimg.imread(img)) for img in path_circles]\n",
    "imagens_square = [np.array(mpimg.imread(img)) for img in path_square]\n",
    "imagens_triangule = [np.array(mpimg.imread(img)) for img in path_triangule]\n",
    "imagens_star = [np.array(mpimg.imread(img)) for img in path_star]"
   ]
  },
  {
   "cell_type": "markdown",
   "metadata": {},
   "source": [
    "A) “template” e três imagens da mesma classe como entradas"
   ]
  },
  {
   "cell_type": "code",
   "execution_count": 3,
   "metadata": {},
   "outputs": [
    {
     "name": "stdout",
     "output_type": "stream",
     "text": [
      "Correlation scores for trianguele\n",
      " Sample 1: 0.4953\n",
      " Sample 2: 0.5925\n",
      " Sample 3: 0.8142\n",
      "Correlation scores for circles\n",
      " Sample 1: 0.9780\n",
      " Sample 2: 0.9622\n",
      " Sample 3: 0.8706\n",
      "Correlation scores for star\n",
      " Sample 1: 0.5418\n",
      " Sample 2: 0.5556\n",
      " Sample 3: 0.9200\n",
      "Correlation scores for square\n",
      " Sample 1: 0.9053\n",
      " Sample 2: 0.8292\n",
      " Sample 3: 0.8903\n"
     ]
    }
   ],
   "source": [
    "# Select one template image from each class\n",
    "template_circles = imagens_circles[0]\n",
    "template_square = imagens_square[0]\n",
    "template_star = imagens_star[0]\n",
    "template_triangule = imagens_triangule[0]\n",
    "\n",
    "\n",
    "# Compare the template with three sample images from each class\n",
    "results = {\n",
    "    \"trianguele\": [corr2(template_triangule, sample) for sample in imagens_triangule[1:4]],\n",
    "    \"circles\": [corr2(template_circles, sample) for sample in imagens_circles[1:4]],\n",
    "    \"star\": [corr2(template_star, sample) for sample in imagens_star[1:4]],\n",
    "    \"square\": [corr2(template_square, sample) for sample in imagens_square[1:4]],\n",
    "}\n",
    "\n",
    "# Print results\n",
    "for shape, scores in results.items():\n",
    "    print(f\"Correlation scores for {shape}\")\n",
    "    for i in range(len(scores)):\n",
    "        print(f\" Sample {i+1}: {scores[i]:.4f}\")  "
   ]
  },
  {
   "cell_type": "code",
   "execution_count": 4,
   "metadata": {},
   "outputs": [
    {
     "name": "stdout",
     "output_type": "stream",
     "text": [
      "Correlation scores for trianguele\n",
      " Sample 1: 0.1405\n",
      " Sample 2: 0.1107\n",
      " Sample 3: 0.0518\n",
      "Correlation scores for circles\n",
      " Sample 1: 0.0090\n",
      " Sample 2: 0.0152\n",
      " Sample 3: 0.0527\n",
      "Correlation scores for star\n",
      " Sample 1: 0.1064\n",
      " Sample 2: 0.0914\n",
      " Sample 3: 0.0176\n",
      "Correlation scores for square\n",
      " Sample 1: 0.0341\n",
      " Sample 2: 0.0716\n",
      " Sample 3: 0.0413\n"
     ]
    }
   ],
   "source": [
    "# Select one template image from each class\n",
    "template_circles = imagens_circles[0]\n",
    "template_square = imagens_square[0]\n",
    "template_star = imagens_star[0]\n",
    "template_triangule = imagens_triangule[0]\n",
    "\n",
    "\n",
    "# Compare the template with three sample images from each class\n",
    "results = {\n",
    "    \"trianguele\": [immse(template_triangule, sample) for sample in imagens_triangule[1:4]],\n",
    "    \"circles\": [immse(template_circles, sample) for sample in imagens_circles[1:4]],\n",
    "    \"star\": [immse(template_star, sample) for sample in imagens_star[1:4]],\n",
    "    \"square\": [immse(template_square, sample) for sample in imagens_square[1:4]],\n",
    "}\n",
    "\n",
    "# Print results\n",
    "for shape, scores in results.items():\n",
    "    print(f\"Correlation scores for {shape}\")\n",
    "    for i in range(len(scores)):\n",
    "        print(f\" Sample {i+1}: {scores[i]:.4f}\")  "
   ]
  },
  {
   "cell_type": "markdown",
   "metadata": {},
   "source": [
    "B) Utilizando o mesmo “template”, selecione três imagens de cada uma das outras três classes"
   ]
  },
  {
   "cell_type": "code",
   "execution_count": 5,
   "metadata": {},
   "outputs": [
    {
     "name": "stdout",
     "output_type": "stream",
     "text": [
      "Correlation scores for circles\n",
      " Sample 1: 0.6217\n",
      " Sample 2: 0.6325\n",
      " Sample 3: 0.6638\n",
      "Correlation scores for star\n",
      " Sample 1: 0.6275\n",
      " Sample 2: 0.5955\n",
      " Sample 3: 0.5532\n",
      "Correlation scores for square\n",
      " Sample 1: 0.6899\n",
      " Sample 2: 0.6715\n",
      " Sample 3: 0.6786\n"
     ]
    }
   ],
   "source": [
    "# Plotting the template images\n",
    "template_triangule = imagens_triangule[0]\n",
    "\n",
    "\n",
    "# Compare the template with three sample images from each class\n",
    "results = {\n",
    "    \"circles\": [corr2(template_triangule, sample) for sample in imagens_circles[1:4]],\n",
    "    \"star\": [corr2(template_triangule, sample) for sample in imagens_star[1:4]],\n",
    "    \"square\": [corr2(template_triangule, sample) for sample in imagens_square[1:4]],\n",
    "}\n",
    "\n",
    "# Print results\n",
    "for shape, scores in results.items():\n",
    "    print(f\"Correlation scores for {shape}\")\n",
    "    for i in range(len(scores)):\n",
    "        print(f\" Sample {i+1}: {scores[i]:.4f}\")\n",
    "\n"
   ]
  },
  {
   "cell_type": "code",
   "execution_count": 6,
   "metadata": {},
   "outputs": [
    {
     "name": "stdout",
     "output_type": "stream",
     "text": [
      "Correlation scores for circles\n",
      " Sample 1: 0.1484\n",
      " Sample 2: 0.1406\n",
      " Sample 3: 0.1105\n",
      "Correlation scores for star\n",
      " Sample 1: 0.0979\n",
      " Sample 2: 0.1008\n",
      " Sample 3: 0.1133\n",
      "Correlation scores for square\n",
      " Sample 1: 0.1073\n",
      " Sample 2: 0.1345\n",
      " Sample 3: 0.1163\n"
     ]
    }
   ],
   "source": [
    "# Plotting the template images\n",
    "template_triangule = imagens_triangule[0]\n",
    "\n",
    "\n",
    "# Compare the template with three sample images from each class\n",
    "results = {\n",
    "    \"circles\": [immse(template_triangule, sample) for sample in imagens_circles[1:4]],\n",
    "    \"star\": [immse(template_triangule, sample) for sample in imagens_star[1:4]],\n",
    "    \"square\": [immse(template_triangule, sample) for sample in imagens_square[1:4]],\n",
    "}\n",
    "\n",
    "# Print results\n",
    "for shape, scores in results.items():\n",
    "    print(f\"Correlation scores for {shape}\")\n",
    "    for i in range(len(scores)):\n",
    "        print(f\" Sample {i+1}: {scores[i]:.4f}\")"
   ]
  },
  {
   "cell_type": "markdown",
   "metadata": {},
   "source": [
    "Etapa B"
   ]
  },
  {
   "cell_type": "code",
   "execution_count": 7,
   "metadata": {},
   "outputs": [
    {
     "name": "stdout",
     "output_type": "stream",
     "text": [
      "5 imagens Acer Capillipes\n",
      "5 imagens Acer Mono\n",
      "5 imagens Acer Opalus\n"
     ]
    }
   ],
   "source": [
    "# Load images\n",
    "# Using glob to load images from folders\n",
    "path_acer_capillipes=gl.glob(\"./Folhas/Acer_Capillipes/*.jpg\")\n",
    "path_acer_mono=gl.glob(\"./Folhas/Acer_Mono/*.jpg\")\n",
    "path_acer_opalus=gl.glob(\"./Folhas/Acer_Opalus/*.jpg\")\n",
    "\n",
    "# Get all imagems\n",
    "# Read images and convert to numpy arrays \n",
    "imagens_acer_capillipes=[np.array(mpimg.imread(img)) for img in path_acer_capillipes]\n",
    "imagens_acer_mono=[np.array(mpimg.imread(img)) for img in path_acer_mono]\n",
    "imagens_acer_opalus=[np.array(mpimg.imread(img)) for img in path_acer_opalus]\n",
    "\n",
    "# Print number of images loaded from each class\n",
    "print(len(imagens_acer_capillipes), \"imagens Acer Capillipes\")\n",
    "print(len(imagens_acer_mono), \"imagens Acer Mono\")\n",
    "print(len(imagens_acer_opalus), \"imagens Acer Opalus\")\n"
   ]
  },
  {
   "cell_type": "markdown",
   "metadata": {},
   "source": [
    "B) “template” e três imagens de cada uma das três classes como entradas"
   ]
  },
  {
   "cell_type": "code",
   "execution_count": 8,
   "metadata": {},
   "outputs": [],
   "source": [
    "# Randomly select 3 images from each class\n",
    "sample_acer_capillipes = random.sample(imagens_acer_capillipes, 4)\n",
    "sample_acer_mono       = random.sample(imagens_acer_mono, 4)\n",
    "sample_acer_opalus     = random.sample(imagens_acer_opalus, 4)\n",
    "\n",
    "\n",
    "samples_with_templete_acer_mono = prepare_template_and_samples_arrays_bw(sample_acer_mono)\n",
    "samples_with_templete_opalus = prepare_template_and_samples_arrays_bw(sample_acer_opalus)\n",
    "samples_with_templete_capillipes = prepare_template_and_samples_arrays_bw(sample_acer_capillipes)"
   ]
  },
  {
   "cell_type": "code",
   "execution_count": 9,
   "metadata": {},
   "outputs": [],
   "source": [
    "results_acer_leaf ={\n",
    "    \"acer_mono\": [corr2(samples_with_templete_acer_mono[0], sample) for sample in samples_with_templete_acer_mono[1]],\n",
    "    \"acer_opalus\": [corr2(samples_with_templete_acer_mono[0], sample) for sample in samples_with_templete_opalus[1]],\n",
    "    \"acer_capillipes\": [corr2(samples_with_templete_acer_mono[0], sample) for sample in samples_with_templete_capillipes[1]],\n",
    "}"
   ]
  },
  {
   "cell_type": "markdown",
   "metadata": {},
   "source": [
    "Mostrando Resultados corr2"
   ]
  },
  {
   "cell_type": "code",
   "execution_count": 10,
   "metadata": {},
   "outputs": [
    {
     "name": "stdout",
     "output_type": "stream",
     "text": [
      "Results for template: Acer Capillipes corr2\n",
      "\n",
      "Acer Capillipes\n",
      " Sample 1: 0.4576\n",
      "Acer Capillipes\n",
      " Sample 2: 0.4657\n",
      "Acer Capillipes\n",
      " Sample 3: 0.4627\n",
      "\n",
      "\n"
     ]
    }
   ],
   "source": [
    "# Print results Acer Capillipes corr2\n",
    "print_scores(results_acer_leaf[\"acer_capillipes\"], \"Acer Capillipes corr2\")"
   ]
  },
  {
   "cell_type": "code",
   "execution_count": 11,
   "metadata": {},
   "outputs": [
    {
     "name": "stdout",
     "output_type": "stream",
     "text": [
      "Results for template: Acer Mono corr2\n",
      "\n",
      "Acer Capillipes\n",
      " Sample 1: 0.6272\n",
      "Acer Capillipes\n",
      " Sample 2: 0.6837\n",
      "Acer Capillipes\n",
      " Sample 3: 0.6991\n",
      "\n",
      "\n"
     ]
    }
   ],
   "source": [
    "# Print results Acer Opalus\n",
    "print_scores(results_acer_leaf[\"acer_mono\"], \"Acer Mono corr2\")"
   ]
  },
  {
   "cell_type": "code",
   "execution_count": 12,
   "metadata": {},
   "outputs": [
    {
     "name": "stdout",
     "output_type": "stream",
     "text": [
      "Results for template: Acer Opalus corr2\n",
      "\n",
      "Acer Capillipes\n",
      " Sample 1: 0.3559\n",
      "Acer Capillipes\n",
      " Sample 2: 0.4572\n",
      "Acer Capillipes\n",
      " Sample 3: 0.3568\n",
      "\n",
      "\n"
     ]
    }
   ],
   "source": [
    "print_scores(results_acer_leaf[\"acer_opalus\"], \"Acer Opalus corr2\")"
   ]
  },
  {
   "cell_type": "code",
   "execution_count": 13,
   "metadata": {},
   "outputs": [],
   "source": [
    "results_acer_leaf_immse ={\n",
    "    \"acer_mono\": [immse(samples_with_templete_acer_mono[0]/255, sample/255) for sample in samples_with_templete_acer_mono[1]],\n",
    "    \"acer_opalus\": [immse(samples_with_templete_opalus[0]/255, sample/255) for sample in samples_with_templete_opalus[1]],\n",
    "    \"acer_capillipes\": [immse(samples_with_templete_capillipes[0]/255, sample/255) for sample in samples_with_templete_capillipes[1]],\n",
    "}"
   ]
  },
  {
   "cell_type": "markdown",
   "metadata": {},
   "source": [
    "Mostrando Resultados immse"
   ]
  },
  {
   "cell_type": "code",
   "execution_count": 14,
   "metadata": {},
   "outputs": [
    {
     "name": "stdout",
     "output_type": "stream",
     "text": [
      "Results for template: Acer Capillipes immse\n",
      "\n",
      "Acer Capillipes\n",
      " Sample 1: 0.0828\n",
      "Acer Capillipes\n",
      " Sample 2: 0.1047\n",
      "Acer Capillipes\n",
      " Sample 3: 0.1380\n",
      "\n",
      "\n"
     ]
    }
   ],
   "source": [
    "# Print results Acer Capillipes immse\n",
    "print_scores(results_acer_leaf_immse[\"acer_capillipes\"], \"Acer Capillipes immse\")"
   ]
  },
  {
   "cell_type": "code",
   "execution_count": 15,
   "metadata": {},
   "outputs": [
    {
     "name": "stdout",
     "output_type": "stream",
     "text": [
      "Results for template: Acer Mono immse\n",
      "\n",
      "Acer Capillipes\n",
      " Sample 1: 0.1491\n",
      "Acer Capillipes\n",
      " Sample 2: 0.1303\n",
      "Acer Capillipes\n",
      " Sample 3: 0.1276\n",
      "\n",
      "\n"
     ]
    }
   ],
   "source": [
    "# Print results Acer Capillipes immse\n",
    "print_scores(results_acer_leaf_immse[\"acer_mono\"], \"Acer Mono immse\")"
   ]
  },
  {
   "cell_type": "code",
   "execution_count": 16,
   "metadata": {},
   "outputs": [
    {
     "name": "stdout",
     "output_type": "stream",
     "text": [
      "Results for template: Acer Opalus immse\n",
      "\n",
      "Acer Capillipes\n",
      " Sample 1: 0.1419\n",
      "Acer Capillipes\n",
      " Sample 2: 0.1430\n",
      "Acer Capillipes\n",
      " Sample 3: 0.1699\n",
      "\n",
      "\n"
     ]
    }
   ],
   "source": [
    "# Print results Acer Capillipes immse\n",
    "print_scores(results_acer_leaf_immse[\"acer_opalus\"], \"Acer Opalus immse\")"
   ]
  },
  {
   "cell_type": "markdown",
   "metadata": {},
   "source": [
    "Etapa C"
   ]
  },
  {
   "cell_type": "code",
   "execution_count": 16,
   "metadata": {},
   "outputs": [],
   "source": [
    "# Plotting the template images\n",
    "formas_triangule = [contar_pixels_3x3(img) for img in path_triangule]\n",
    "formas_circles = [contar_pixels_3x3(img) for img in path_circles]\n",
    "formas_star = [contar_pixels_3x3(img) for img in path_star]\n",
    "formas_square = [contar_pixels_3x3(img) for img in path_square]\n",
    "\n",
    "formas_acer_capillipes = [contar_pixels_3x3(img) for img in path_acer_capillipes]\n",
    "formas_acer_mono = [contar_pixels_3x3(img) for img in path_acer_mono]\n",
    "formas_acer_opalus = [contar_pixels_3x3(img) for img in path_acer_opalus]"
   ]
  },
  {
   "cell_type": "code",
   "execution_count": 17,
   "metadata": {},
   "outputs": [],
   "source": [
    "template_circles = formas_circles[0]\n",
    "template_square = formas_square[0]\n",
    "template_star = formas_star[0]\n",
    "template_triangule = formas_triangule[0]"
   ]
  },
  {
   "cell_type": "code",
   "execution_count": 18,
   "metadata": {},
   "outputs": [],
   "source": [
    "\n",
    "results_formas = {\n",
    "    \"trianguele\": [corr2(template_triangule, sample) for sample in formas_triangule[1:4]],\n",
    "    \"circles\": [corr2(template_circles, sample) for sample in formas_circles[1:4]],\n",
    "    \"star\": [corr2(template_star, sample) for sample in formas_star[1:4]],\n",
    "    \"square\": [corr2(template_square, sample) for sample in formas_square[1:4]],\n",
    "}"
   ]
  },
  {
   "cell_type": "code",
   "execution_count": 19,
   "metadata": {},
   "outputs": [
    {
     "name": "stdout",
     "output_type": "stream",
     "text": [
      "Resultados formas com contar pixels 3x3 e corr2\n",
      "Correlation scores for trianguele\n",
      " Sample 1: 0.9564\n",
      " Sample 2: 0.9686\n",
      " Sample 3: 0.9930\n",
      "Correlation scores for circles\n",
      " Sample 1: 0.9993\n",
      " Sample 2: 0.9995\n",
      " Sample 3: 0.9883\n",
      "Correlation scores for star\n",
      " Sample 1: 0.9942\n",
      " Sample 2: 0.9927\n",
      " Sample 3: 0.9994\n",
      "Correlation scores for square\n",
      " Sample 1: 0.9971\n",
      " Sample 2: 0.9843\n",
      " Sample 3: 0.9948\n"
     ]
    }
   ],
   "source": [
    "print(\"Resultados formas com contar pixels 3x3 e corr2\")\n",
    "for shape, scores in results_formas.items():\n",
    "    print(f\"Correlation scores for {shape}\")\n",
    "    for i in range(len(scores)):\n",
    "        print(f\" Sample {i+1}: {scores[i]:.4f}\")"
   ]
  },
  {
   "cell_type": "code",
   "execution_count": 20,
   "metadata": {},
   "outputs": [],
   "source": [
    "results_leaf={\n",
    "    \"acer_mono\": [corr2(formas_acer_mono[0], sample) for sample in formas_acer_mono[1:4]],\n",
    "    \"acer_opalus\": [corr2(formas_acer_mono[0], sample) for sample in formas_acer_opalus[1:4]],\n",
    "    \"acer_capillipes\": [corr2(formas_acer_mono[0], sample) for sample in formas_acer_capillipes[1:4]],\n",
    "}"
   ]
  },
  {
   "cell_type": "code",
   "execution_count": 21,
   "metadata": {},
   "outputs": [
    {
     "name": "stdout",
     "output_type": "stream",
     "text": [
      "Resultados folhas com contar pixels 3x3 e corr2\n",
      "Correlation scores for acer_mono\n",
      " Sample 1: 0.9523\n",
      " Sample 2: 0.9786\n",
      " Sample 3: 0.9763\n",
      "Correlation scores for acer_opalus\n",
      " Sample 1: 0.8091\n",
      " Sample 2: 0.7308\n",
      " Sample 3: 0.7079\n",
      "Correlation scores for acer_capillipes\n",
      " Sample 1: 0.6046\n",
      " Sample 2: 0.6808\n",
      " Sample 3: 0.6875\n"
     ]
    }
   ],
   "source": [
    "print(\"Resultados folhas com contar pixels 3x3 e corr2\")\n",
    "for shape, scores in results_leaf.items():\n",
    "    print(f\"Correlation scores for {shape}\")\n",
    "    for i in range(len(scores)):\n",
    "        print(f\" Sample {i+1}: {scores[i]:.4f}\")"
   ]
  },
  {
   "cell_type": "code",
   "execution_count": 56,
   "metadata": {},
   "outputs": [],
   "source": [
    "results_formas_immse ={\n",
    "    \"trianguele\": [immse_truncate(template_triangule, sample,580) for sample in formas_triangule[1:4]],\n",
    "    \"circles\": [immse_truncate(template_circles, sample) for sample in formas_circles[1:4]],\n",
    "    \"star\": [immse_truncate(template_star, sample) for sample in formas_star[1:4]],\n",
    "    \"square\": [immse_truncate(template_square, sample) for sample in formas_square[1:4]],\n",
    "}"
   ]
  },
  {
   "cell_type": "code",
   "execution_count": 57,
   "metadata": {},
   "outputs": [
    {
     "name": "stdout",
     "output_type": "stream",
     "text": [
      "Resultados formas com contar pixels 3x3 e immse\n",
      "Correlation scores for trianguele\n",
      " Sample 1: 0.8355\n",
      " Sample 2: 0.6238\n",
      " Sample 3: 0.1416\n",
      "Correlation scores for circles\n",
      " Sample 1: 0.0132\n",
      " Sample 2: 0.0090\n",
      " Sample 3: 0.3308\n",
      "Correlation scores for star\n",
      " Sample 1: 0.1571\n",
      " Sample 2: 0.2103\n",
      " Sample 3: 0.0163\n",
      "Correlation scores for square\n",
      " Sample 1: 0.0807\n",
      " Sample 2: 0.5614\n",
      " Sample 3: 0.1703\n"
     ]
    }
   ],
   "source": [
    "print(\"Resultados formas com contar pixels 3x3 e immse\")\n",
    "for shape, scores in results_formas_immse.items():\n",
    "    print(f\"Correlation scores for {shape}\")\n",
    "    for i in range(len(scores)):\n",
    "        print(f\" Sample {i+1}: {scores[i]:.4f}\")"
   ]
  },
  {
   "cell_type": "code",
   "execution_count": 58,
   "metadata": {},
   "outputs": [],
   "source": [
    "results_acer_leaf_immse={\n",
    "    \"acer_mono\": [immse_truncate(formas_acer_mono[0], sample,max_val=3000) for sample in formas_acer_mono[1:4]],\n",
    "    \"acer_opalus\": [immse_truncate(formas_acer_mono[0], sample,max_val=7000) for sample in formas_acer_opalus[1:4]],\n",
    "    \"acer_capillipes\": [immse_truncate(formas_acer_mono[0], sample,max_val=8000) for sample in formas_acer_capillipes[1:4]],\n",
    "}"
   ]
  },
  {
   "cell_type": "code",
   "execution_count": 59,
   "metadata": {},
   "outputs": [
    {
     "name": "stdout",
     "output_type": "stream",
     "text": [
      "Resultados formas com contar pixels 3x3 e immse\n",
      "Correlation scores for acer_mono\n",
      " Sample 1: 0.8849\n",
      " Sample 2: 0.3417\n",
      " Sample 3: 0.3405\n",
      "Correlation scores for acer_opalus\n",
      " Sample 1: 0.7877\n",
      " Sample 2: 0.8369\n",
      " Sample 3: 0.9832\n",
      "Correlation scores for acer_capillipes\n",
      " Sample 1: 0.8923\n",
      " Sample 2: 0.9004\n",
      " Sample 3: 0.8183\n"
     ]
    }
   ],
   "source": [
    "print(\"Resultados formas com contar pixels 3x3 e immse\")\n",
    "for shape, scores in results_acer_leaf_immse.items():\n",
    "    print(f\"Correlation scores for {shape}\")\n",
    "    for i in range(len(scores)):\n",
    "        print(f\" Sample {i+1}: {scores[i]:.4f}\")"
   ]
  }
 ],
 "metadata": {
  "kernelspec": {
   "display_name": "Python 3",
   "language": "python",
   "name": "python3"
  },
  "language_info": {
   "codemirror_mode": {
    "name": "ipython",
    "version": 3
   },
   "file_extension": ".py",
   "mimetype": "text/x-python",
   "name": "python",
   "nbconvert_exporter": "python",
   "pygments_lexer": "ipython3",
   "version": "3.13.2"
  }
 },
 "nbformat": 4,
 "nbformat_minor": 2
}
