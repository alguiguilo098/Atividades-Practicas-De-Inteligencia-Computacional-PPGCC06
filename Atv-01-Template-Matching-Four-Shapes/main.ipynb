{
 "cells": [
  {
   "cell_type": "code",
   "execution_count": 59,
   "metadata": {},
   "outputs": [],
   "source": [
    "import matplotlib.image as mpimg\n",
    "from skimage.metrics import mean_squared_error\n",
    "import numpy as np\n",
    "import glob as gl\n",
    "import random"
   ]
  },
  {
   "cell_type": "markdown",
   "metadata": {},
   "source": [
    "Etapa A"
   ]
  },
  {
   "cell_type": "code",
   "execution_count": 60,
   "metadata": {},
   "outputs": [],
   "source": [
    "# Corr2\n",
    "def corr2(A, B):\n",
    "    \"\"\"\n",
    "    Calculate the 2D correlation coefficient between two 2D arrays.\n",
    "    Args:\n",
    "        A (np.array): First 2D array.\n",
    "        B (np.array): Second 2D array.\n",
    "    Returns:\n",
    "        float: 2D correlation coefficient.\n",
    "    \"\"\"\n",
    "    A = A - np.mean(A)\n",
    "    B = B - np.mean(B)\n",
    "    A, B = match_size(A, B)\n",
    "    return np.sum(A * B) / np.sqrt(np.sum(A**2) * np.sum(B**2))\n",
    "\n",
    "def match_size(A, B):\n",
    "    \"\"\"\n",
    "    Ajusta os tamanhos de A e B para que tenham as mesmas dimensões.\n",
    "    Funciona tanto para vetores 1D quanto para matrizes 2D.\n",
    "    \"\"\"\n",
    "    A = np.array(A, dtype=float)\n",
    "    B = np.array(B, dtype=float)\n",
    "\n",
    "    # Se for 1D, transforma em 2D (coluna)\n",
    "    if A.ndim == 1:\n",
    "        A = A.reshape(-1, 1)\n",
    "    if B.ndim == 1:\n",
    "        B = B.reshape(-1, 1)\n",
    "\n",
    "    rows = min(A.shape[0], B.shape[0])\n",
    "    cols = min(A.shape[1], B.shape[1])\n",
    "\n",
    "    return A[:rows, :cols], B[:rows, :cols]\n",
    "\n",
    "# IMMSE\n",
    "def immse(X, Y):\n",
    "    return mean_squared_error(X, Y)\n",
    "\n",
    "\n",
    "def print_scores(results, labeltamplet:str)->None:\n",
    "    \"\"\"\n",
    "    Print the scores of the correlation between the template and the samples.\n",
    "    Args:\n",
    "        results (np.array): Array of scores.\n",
    "        labeltamplet (str): Label of the template.\n",
    "    Returns:\n",
    "        None\n",
    "    \"\"\"\n",
    "    i=0\n",
    "    print(f\"Results for template: {labeltamplet}\\n\")\n",
    "    for i,scores in enumerate(results):\n",
    "        if i<3:\n",
    "            print(\"Acer Capillipes\")\n",
    "            print(f\" Sample {i+1}: {scores:.4f}\")\n",
    "        elif i<6:\n",
    "            print(\"Acer Mono\")\n",
    "            print(f\" Sample {i-2}: {scores:.4f}\")\n",
    "        else:\n",
    "            print(\"Acer Opalus\")\n",
    "            print(f\" Sample {i-5}: {scores:.4f}\")\n",
    "        i+=1\n",
    "    print(\"\\n\")"
   ]
  },
  {
   "cell_type": "code",
   "execution_count": 61,
   "metadata": {},
   "outputs": [],
   "source": [
    "# Load images\n",
    "# Using glob to load images from folders\n",
    "path_circles=gl.glob(\"./Formas/circle/*.png\")\n",
    "path_square=gl.glob(\"./Formas/square/*.png\")\n",
    "path_triangule=gl.glob(\"./Formas/triangle/*.png\")\n",
    "path_star=gl.glob(\"./Formas/star/*.png\")\n",
    "\n",
    "# Get all imagems\n",
    "# Read images and convert to numpy arrays \n",
    "imagens_circles = [np.array(mpimg.imread(img)) for img in path_circles]\n",
    "imagens_square = [np.array(mpimg.imread(img)) for img in path_square]\n",
    "imagens_triangule = [np.array(mpimg.imread(img)) for img in path_triangule]\n",
    "imagens_star = [np.array(mpimg.imread(img)) for img in path_star]"
   ]
  },
  {
   "cell_type": "markdown",
   "metadata": {},
   "source": [
    "A) “template” e três imagens da mesma classe como entradas"
   ]
  },
  {
   "cell_type": "code",
   "execution_count": 62,
   "metadata": {},
   "outputs": [
    {
     "name": "stdout",
     "output_type": "stream",
     "text": [
      "Correlation scores for trianguele\n",
      " Sample 1: 0.4953\n",
      " Sample 2: 0.5925\n",
      " Sample 3: 0.8142\n",
      "Correlation scores for circles\n",
      " Sample 1: 0.9780\n",
      " Sample 2: 0.9622\n",
      " Sample 3: 0.8706\n",
      "Correlation scores for star\n",
      " Sample 1: 0.5418\n",
      " Sample 2: 0.5556\n",
      " Sample 3: 0.9200\n",
      "Correlation scores for square\n",
      " Sample 1: 0.9053\n",
      " Sample 2: 0.8292\n",
      " Sample 3: 0.8903\n"
     ]
    }
   ],
   "source": [
    "# Select one template image from each class\n",
    "template_circles = imagens_circles[0]\n",
    "template_square = imagens_square[0]\n",
    "template_star = imagens_star[0]\n",
    "template_triangule = imagens_triangule[0]\n",
    "\n",
    "\n",
    "# Compare the template with three sample images from each class\n",
    "results = {\n",
    "    \"trianguele\": [corr2(template_triangule, sample) for sample in imagens_triangule[1:4]],\n",
    "    \"circles\": [corr2(template_circles, sample) for sample in imagens_circles[1:4]],\n",
    "    \"star\": [corr2(template_star, sample) for sample in imagens_star[1:4]],\n",
    "    \"square\": [corr2(template_square, sample) for sample in imagens_square[1:4]],\n",
    "}\n",
    "\n",
    "# Print results\n",
    "for shape, scores in results.items():\n",
    "    print(f\"Correlation scores for {shape}\")\n",
    "    for i in range(len(scores)):\n",
    "        print(f\" Sample {i+1}: {scores[i]:.4f}\")  "
   ]
  },
  {
   "cell_type": "code",
   "execution_count": 63,
   "metadata": {},
   "outputs": [
    {
     "name": "stdout",
     "output_type": "stream",
     "text": [
      "Correlation scores for trianguele\n",
      " Sample 1: 0.1405\n",
      " Sample 2: 0.1107\n",
      " Sample 3: 0.0518\n",
      "Correlation scores for circles\n",
      " Sample 1: 0.0090\n",
      " Sample 2: 0.0152\n",
      " Sample 3: 0.0527\n",
      "Correlation scores for star\n",
      " Sample 1: 0.1064\n",
      " Sample 2: 0.0914\n",
      " Sample 3: 0.0176\n",
      "Correlation scores for square\n",
      " Sample 1: 0.0341\n",
      " Sample 2: 0.0716\n",
      " Sample 3: 0.0413\n"
     ]
    }
   ],
   "source": [
    "# Select one template image from each class\n",
    "template_circles = imagens_circles[0]\n",
    "template_square = imagens_square[0]\n",
    "template_star = imagens_star[0]\n",
    "template_triangule = imagens_triangule[0]\n",
    "\n",
    "\n",
    "# Compare the template with three sample images from each class\n",
    "results = {\n",
    "    \"trianguele\": [immse(template_triangule, sample) for sample in imagens_triangule[1:4]],\n",
    "    \"circles\": [immse(template_circles, sample) for sample in imagens_circles[1:4]],\n",
    "    \"star\": [immse(template_star, sample) for sample in imagens_star[1:4]],\n",
    "    \"square\": [immse(template_square, sample) for sample in imagens_square[1:4]],\n",
    "}\n",
    "\n",
    "# Print results\n",
    "for shape, scores in results.items():\n",
    "    print(f\"Correlation scores for {shape}\")\n",
    "    for i in range(len(scores)):\n",
    "        print(f\" Sample {i+1}: {scores[i]:.4f}\")  "
   ]
  },
  {
   "cell_type": "markdown",
   "metadata": {},
   "source": [
    "B) Utilizando o mesmo “template”, selecione três imagens de cada uma das outras três classes"
   ]
  },
  {
   "cell_type": "code",
   "execution_count": 64,
   "metadata": {},
   "outputs": [
    {
     "name": "stdout",
     "output_type": "stream",
     "text": [
      "Correlation scores for circles\n",
      " Sample 1: 0.6217\n",
      " Sample 2: 0.6325\n",
      " Sample 3: 0.6638\n",
      "Correlation scores for star\n",
      " Sample 1: 0.6275\n",
      " Sample 2: 0.5955\n",
      " Sample 3: 0.5532\n",
      "Correlation scores for square\n",
      " Sample 1: 0.6899\n",
      " Sample 2: 0.6715\n",
      " Sample 3: 0.6786\n"
     ]
    }
   ],
   "source": [
    "# Plotting the template images\n",
    "template_triangule = imagens_triangule[0]\n",
    "\n",
    "\n",
    "# Compare the template with three sample images from each class\n",
    "results = {\n",
    "    \"circles\": [corr2(template_triangule, sample) for sample in imagens_circles[1:4]],\n",
    "    \"star\": [corr2(template_triangule, sample) for sample in imagens_star[1:4]],\n",
    "    \"square\": [corr2(template_triangule, sample) for sample in imagens_square[1:4]],\n",
    "}\n",
    "\n",
    "# Print results\n",
    "for shape, scores in results.items():\n",
    "    print(f\"Correlation scores for {shape}\")\n",
    "    for i in range(len(scores)):\n",
    "        print(f\" Sample {i+1}: {scores[i]:.4f}\")\n",
    "\n"
   ]
  },
  {
   "cell_type": "code",
   "execution_count": 65,
   "metadata": {},
   "outputs": [
    {
     "name": "stdout",
     "output_type": "stream",
     "text": [
      "Correlation scores for circles\n",
      " Sample 1: 0.1484\n",
      " Sample 2: 0.1406\n",
      " Sample 3: 0.1105\n",
      "Correlation scores for star\n",
      " Sample 1: 0.0979\n",
      " Sample 2: 0.1008\n",
      " Sample 3: 0.1133\n",
      "Correlation scores for square\n",
      " Sample 1: 0.1073\n",
      " Sample 2: 0.1345\n",
      " Sample 3: 0.1163\n"
     ]
    }
   ],
   "source": [
    "# Plotting the template images\n",
    "template_triangule = imagens_triangule[0]\n",
    "\n",
    "\n",
    "# Compare the template with three sample images from each class\n",
    "results = {\n",
    "    \"circles\": [immse(template_triangule, sample) for sample in imagens_circles[1:4]],\n",
    "    \"star\": [immse(template_triangule, sample) for sample in imagens_star[1:4]],\n",
    "    \"square\": [immse(template_triangule, sample) for sample in imagens_square[1:4]],\n",
    "}\n",
    "\n",
    "# Print results\n",
    "for shape, scores in results.items():\n",
    "    print(f\"Correlation scores for {shape}\")\n",
    "    for i in range(len(scores)):\n",
    "        print(f\" Sample {i+1}: {scores[i]:.4f}\")"
   ]
  },
  {
   "cell_type": "markdown",
   "metadata": {},
   "source": [
    "Etapa B"
   ]
  },
  {
   "cell_type": "code",
   "execution_count": 66,
   "metadata": {},
   "outputs": [
    {
     "name": "stdout",
     "output_type": "stream",
     "text": [
      "5 imagens Acer Capillipes\n",
      "5 imagens Acer Mono\n",
      "5 imagens Acer Opalus\n"
     ]
    }
   ],
   "source": [
    "# Load images\n",
    "# Using glob to load images from folders\n",
    "path_acer_capillipes=gl.glob(\"./Folhas/Acer_Capillipes/*.jpg\")\n",
    "path_acer_mono=gl.glob(\"./Folhas/Acer_Mono/*.jpg\")\n",
    "path_acer_opalus=gl.glob(\"./Folhas/Acer_Opalus/*.jpg\")\n",
    "\n",
    "# Get all imagems\n",
    "# Read images and convert to numpy arrays \n",
    "imagens_acer_capillipes=[np.array(mpimg.imread(img)) for img in path_acer_capillipes]\n",
    "imagens_acer_mono=[np.array(mpimg.imread(img)) for img in path_acer_mono]\n",
    "imagens_acer_opalus=[np.array(mpimg.imread(img)) for img in path_acer_opalus]\n",
    "\n",
    "# Print number of images loaded from each class\n",
    "print(len(imagens_acer_capillipes), \"imagens Acer Capillipes\")\n",
    "print(len(imagens_acer_mono), \"imagens Acer Mono\")\n",
    "print(len(imagens_acer_opalus), \"imagens Acer Opalus\")\n"
   ]
  },
  {
   "cell_type": "markdown",
   "metadata": {},
   "source": [
    "B) “template” e três imagens de cada uma das três classes como entradas"
   ]
  },
  {
   "cell_type": "code",
   "execution_count": 71,
   "metadata": {},
   "outputs": [],
   "source": [
    "# Select one template image from each class\n",
    "template_acer_capillipes=imagens_acer_capillipes[0]\n",
    "template_acer_mono=imagens_acer_mono[0]\n",
    "template_acer_opalus=imagens_acer_opalus[0]\n",
    "\n",
    "# Randomly select 3 images from each class\n",
    "sample_acer_capillipes = random.sample(imagens_acer_capillipes, 3)\n",
    "sample_acer_mono       = random.sample(imagens_acer_mono, 3)\n",
    "sample_acer_opalus     = random.sample(imagens_acer_opalus, 3)\n",
    "\n"
   ]
  },
  {
   "cell_type": "code",
   "execution_count": 72,
   "metadata": {},
   "outputs": [
    {
     "ename": "ValueError",
     "evalue": "Input images must have the same dimensions.",
     "output_type": "error",
     "traceback": [
      "\u001b[31m---------------------------------------------------------------------------\u001b[39m",
      "\u001b[31mValueError\u001b[39m                                Traceback (most recent call last)",
      "\u001b[36mCell\u001b[39m\u001b[36m \u001b[39m\u001b[32mIn[72]\u001b[39m\u001b[32m, line 9\u001b[39m\n\u001b[32m      1\u001b[39m \u001b[38;5;66;03m# Compare the template with three sample images from each class\u001b[39;00m\n\u001b[32m      2\u001b[39m results={\n\u001b[32m      3\u001b[39m     \u001b[33m\"\u001b[39m\u001b[33macer_capillipes\u001b[39m\u001b[33m\"\u001b[39m:[corr2(template_acer_capillipes,sample) \u001b[38;5;28;01mfor\u001b[39;00m sample \u001b[38;5;129;01min\u001b[39;00m sample_acer_capillipes],\n\u001b[32m      4\u001b[39m     \u001b[33m\"\u001b[39m\u001b[33macer_mono\u001b[39m\u001b[33m\"\u001b[39m:[corr2(template_acer_mono,sample) \u001b[38;5;28;01mfor\u001b[39;00m sample \u001b[38;5;129;01min\u001b[39;00m sample_acer_mono],\n\u001b[32m      5\u001b[39m     \u001b[33m\"\u001b[39m\u001b[33macer_opalus\u001b[39m\u001b[33m\"\u001b[39m:[corr2(template_acer_opalus,sample) \u001b[38;5;28;01mfor\u001b[39;00m sample \u001b[38;5;129;01min\u001b[39;00m sample_acer_opalus],\n\u001b[32m      6\u001b[39m }\n\u001b[32m      8\u001b[39m results_immse={\n\u001b[32m----> \u001b[39m\u001b[32m9\u001b[39m     \u001b[33m\"\u001b[39m\u001b[33macer_capillipes\u001b[39m\u001b[33m\"\u001b[39m:[\u001b[43mimmse\u001b[49m\u001b[43m(\u001b[49m\u001b[43mtemplate_acer_capillipes\u001b[49m\u001b[43m,\u001b[49m\u001b[43msample\u001b[49m\u001b[43m)\u001b[49m \u001b[38;5;28;01mfor\u001b[39;00m sample \u001b[38;5;129;01min\u001b[39;00m sample_acer_capillipes],\n\u001b[32m     10\u001b[39m     \u001b[33m\"\u001b[39m\u001b[33macer_mono\u001b[39m\u001b[33m\"\u001b[39m:[immse(template_acer_mono,sample) \u001b[38;5;28;01mfor\u001b[39;00m sample \u001b[38;5;129;01min\u001b[39;00m sample_acer_opalus],\n\u001b[32m     11\u001b[39m     \u001b[33m\"\u001b[39m\u001b[33macer_opalus\u001b[39m\u001b[33m\"\u001b[39m:[immse(template_acer_opalus,sample) \u001b[38;5;28;01mfor\u001b[39;00m sample \u001b[38;5;129;01min\u001b[39;00m sample_acer_opalus],\n\u001b[32m     12\u001b[39m }\n",
      "\u001b[36mCell\u001b[39m\u001b[36m \u001b[39m\u001b[32mIn[60]\u001b[39m\u001b[32m, line 37\u001b[39m, in \u001b[36mimmse\u001b[39m\u001b[34m(X, Y)\u001b[39m\n\u001b[32m     36\u001b[39m \u001b[38;5;28;01mdef\u001b[39;00m\u001b[38;5;250m \u001b[39m\u001b[34mimmse\u001b[39m(X, Y):\n\u001b[32m---> \u001b[39m\u001b[32m37\u001b[39m     \u001b[38;5;28;01mreturn\u001b[39;00m \u001b[43mmean_squared_error\u001b[49m\u001b[43m(\u001b[49m\u001b[43mX\u001b[49m\u001b[43m,\u001b[49m\u001b[43m \u001b[49m\u001b[43mY\u001b[49m\u001b[43m)\u001b[49m\n",
      "\u001b[36mFile \u001b[39m\u001b[32m~/.local/lib/python3.13/site-packages/skimage/metrics/simple_metrics.py:46\u001b[39m, in \u001b[36mmean_squared_error\u001b[39m\u001b[34m(image0, image1)\u001b[39m\n\u001b[32m     25\u001b[39m \u001b[38;5;28;01mdef\u001b[39;00m\u001b[38;5;250m \u001b[39m\u001b[34mmean_squared_error\u001b[39m(image0, image1):\n\u001b[32m     26\u001b[39m \u001b[38;5;250m    \u001b[39m\u001b[33;03m\"\"\"\u001b[39;00m\n\u001b[32m     27\u001b[39m \u001b[33;03m    Compute the mean-squared error between two images.\u001b[39;00m\n\u001b[32m     28\u001b[39m \n\u001b[32m   (...)\u001b[39m\u001b[32m     44\u001b[39m \n\u001b[32m     45\u001b[39m \u001b[33;03m    \"\"\"\u001b[39;00m\n\u001b[32m---> \u001b[39m\u001b[32m46\u001b[39m     \u001b[43mcheck_shape_equality\u001b[49m\u001b[43m(\u001b[49m\u001b[43mimage0\u001b[49m\u001b[43m,\u001b[49m\u001b[43m \u001b[49m\u001b[43mimage1\u001b[49m\u001b[43m)\u001b[49m\n\u001b[32m     47\u001b[39m     image0, image1 = _as_floats(image0, image1)\n\u001b[32m     48\u001b[39m     \u001b[38;5;28;01mreturn\u001b[39;00m np.mean((image0 - image1) ** \u001b[32m2\u001b[39m, dtype=np.float64)\n",
      "\u001b[36mFile \u001b[39m\u001b[32m~/.local/lib/python3.13/site-packages/skimage/_shared/utils.py:627\u001b[39m, in \u001b[36mcheck_shape_equality\u001b[39m\u001b[34m(*images)\u001b[39m\n\u001b[32m    625\u001b[39m image0 = images[\u001b[32m0\u001b[39m]\n\u001b[32m    626\u001b[39m \u001b[38;5;28;01mif\u001b[39;00m \u001b[38;5;129;01mnot\u001b[39;00m \u001b[38;5;28mall\u001b[39m(image0.shape == image.shape \u001b[38;5;28;01mfor\u001b[39;00m image \u001b[38;5;129;01min\u001b[39;00m images[\u001b[32m1\u001b[39m:]):\n\u001b[32m--> \u001b[39m\u001b[32m627\u001b[39m     \u001b[38;5;28;01mraise\u001b[39;00m \u001b[38;5;167;01mValueError\u001b[39;00m(\u001b[33m'\u001b[39m\u001b[33mInput images must have the same dimensions.\u001b[39m\u001b[33m'\u001b[39m)\n\u001b[32m    628\u001b[39m \u001b[38;5;28;01mreturn\u001b[39;00m\n",
      "\u001b[31mValueError\u001b[39m: Input images must have the same dimensions."
     ]
    }
   ],
   "source": [
    "# Compare the template with three sample images from each class\n",
    "results={\n",
    "    \"acer_capillipes\":[corr2(template_acer_capillipes,sample) for sample in sample_acer_capillipes],\n",
    "    \"acer_mono\":[corr2(template_acer_mono,sample) for sample in sample_acer_mono],\n",
    "    \"acer_opalus\":[corr2(template_acer_opalus,sample) for sample in sample_acer_opalus],\n",
    "}\n",
    "\n",
    "results_immse={\n",
    "    \"acer_capillipes\":[immse(template_acer_capillipes,sample) for sample in sample_acer_capillipes],\n",
    "    \"acer_mono\":[immse(template_acer_mono,sample) for sample in sample_acer_opalus],\n",
    "    \"acer_opalus\":[immse(template_acer_opalus,sample) for sample in sample_acer_opalus],\n",
    "}\n"
   ]
  },
  {
   "cell_type": "markdown",
   "metadata": {},
   "source": [
    "Mostrando Resultados corr2"
   ]
  },
  {
   "cell_type": "code",
   "execution_count": null,
   "metadata": {},
   "outputs": [
    {
     "name": "stdout",
     "output_type": "stream",
     "text": [
      "Results for template: Acer Capillipes corr2\n",
      "\n",
      "Acer Capillipes\n",
      " Sample 1: 0.8806\n",
      "Acer Capillipes\n",
      " Sample 2: 0.9181\n",
      "Acer Capillipes\n",
      " Sample 3: 0.7526\n",
      "Acer Mono\n",
      " Sample 1: 0.3818\n",
      "Acer Mono\n",
      " Sample 2: 0.5282\n",
      "Acer Mono\n",
      " Sample 3: 0.5170\n",
      "Acer Opalus\n",
      " Sample 1: 0.4930\n",
      "Acer Opalus\n",
      " Sample 2: 0.4193\n",
      "Acer Opalus\n",
      " Sample 3: 0.4998\n",
      "\n",
      "\n"
     ]
    }
   ],
   "source": [
    "# Print results Acer Capillipes corr2\n",
    "print_scores(results[\"acer_capillipes\"], \"Acer Capillipes corr2\")"
   ]
  },
  {
   "cell_type": "code",
   "execution_count": null,
   "metadata": {},
   "outputs": [
    {
     "name": "stdout",
     "output_type": "stream",
     "text": [
      "Results for template: Acer Mono corr2\n",
      "\n",
      "Acer Capillipes\n",
      " Sample 1: 0.4944\n",
      "Acer Capillipes\n",
      " Sample 2: 0.4865\n",
      "Acer Capillipes\n",
      " Sample 3: 0.5055\n",
      "Acer Mono\n",
      " Sample 1: 0.5820\n",
      "Acer Mono\n",
      " Sample 2: 0.7880\n",
      "Acer Mono\n",
      " Sample 3: 0.6858\n",
      "Acer Opalus\n",
      " Sample 1: 0.4752\n",
      "Acer Opalus\n",
      " Sample 2: 0.4027\n",
      "Acer Opalus\n",
      " Sample 3: 0.4829\n",
      "\n",
      "\n"
     ]
    }
   ],
   "source": [
    "# Print results Acer Opalus\n",
    "print_scores(results[\"acer_mono\"], \"Acer Mono corr2\")"
   ]
  },
  {
   "cell_type": "code",
   "execution_count": null,
   "metadata": {},
   "outputs": [
    {
     "name": "stdout",
     "output_type": "stream",
     "text": [
      "Results for template: Acer Opalus corr2\n",
      "\n",
      "Acer Capillipes\n",
      " Sample 1: 0.5204\n",
      "Acer Capillipes\n",
      " Sample 2: 0.5066\n",
      "Acer Capillipes\n",
      " Sample 3: 0.4204\n",
      "Acer Mono\n",
      " Sample 1: 0.3832\n",
      "Acer Mono\n",
      " Sample 2: 0.5363\n",
      "Acer Mono\n",
      " Sample 3: 0.4600\n",
      "Acer Opalus\n",
      " Sample 1: 0.7817\n",
      "Acer Opalus\n",
      " Sample 2: 0.5843\n",
      "Acer Opalus\n",
      " Sample 3: 1.0000\n",
      "\n",
      "\n"
     ]
    }
   ],
   "source": [
    "print_scores(results[\"acer_opalus\"], \"Acer Opalus corr2\")"
   ]
  },
  {
   "cell_type": "markdown",
   "metadata": {},
   "source": [
    "Mostrando Resultados immse"
   ]
  },
  {
   "cell_type": "code",
   "execution_count": null,
   "metadata": {},
   "outputs": [
    {
     "name": "stdout",
     "output_type": "stream",
     "text": [
      "Results for template: Acer Capillipes immse\n",
      "\n",
      "Acer Capillipes\n",
      " Sample 1: 3877.7676\n",
      "Acer Capillipes\n",
      " Sample 2: 2604.9086\n",
      "Acer Capillipes\n",
      " Sample 3: 8031.6512\n",
      "Acer Mono\n",
      " Sample 1: 25495.0625\n",
      "Acer Mono\n",
      " Sample 2: 18862.9282\n",
      "Acer Mono\n",
      " Sample 3: 19803.2024\n",
      "Acer Opalus\n",
      " Sample 1: 16160.8291\n",
      "Acer Opalus\n",
      " Sample 2: 19005.3721\n",
      "Acer Opalus\n",
      " Sample 3: 15905.3546\n",
      "\n",
      "\n"
     ]
    }
   ],
   "source": [
    "# Print results Acer Capillipes immse\n",
    "print_scores(results_immse[\"acer_capillipes\"], \"Acer Capillipes immse\")"
   ]
  },
  {
   "cell_type": "code",
   "execution_count": null,
   "metadata": {},
   "outputs": [
    {
     "name": "stdout",
     "output_type": "stream",
     "text": [
      "Results for template: Acer Mono immse\n",
      "\n",
      "Acer Capillipes\n",
      " Sample 1: 20766.4877\n",
      "Acer Capillipes\n",
      " Sample 2: 21329.9597\n",
      "Acer Capillipes\n",
      " Sample 3: 20309.8474\n",
      "Acer Mono\n",
      " Sample 1: 12491.7624\n",
      "Acer Mono\n",
      " Sample 2: 6224.3030\n",
      "Acer Mono\n",
      " Sample 3: 9242.1824\n",
      "Acer Opalus\n",
      " Sample 1: 20075.1938\n",
      "Acer Opalus\n",
      " Sample 2: 21726.3672\n",
      "Acer Opalus\n",
      " Sample 3: 20371.5113\n",
      "\n",
      "\n"
     ]
    }
   ],
   "source": [
    "# Print results Acer Capillipes immse\n",
    "print_scores(results_immse[\"acer_mono\"], \"Acer Mono immse\")"
   ]
  },
  {
   "cell_type": "code",
   "execution_count": null,
   "metadata": {},
   "outputs": [
    {
     "name": "stdout",
     "output_type": "stream",
     "text": [
      "Results for template: Acer Opalus immse\n",
      "\n",
      "Acer Capillipes\n",
      " Sample 1: 15297.1000\n",
      "Acer Capillipes\n",
      " Sample 2: 15645.9697\n",
      "Acer Capillipes\n",
      " Sample 3: 18419.1852\n",
      "Acer Mono\n",
      " Sample 1: 23671.1365\n",
      "Acer Mono\n",
      " Sample 2: 18188.0848\n",
      "Acer Mono\n",
      " Sample 3: 21477.9127\n",
      "Acer Opalus\n",
      " Sample 1: 7032.0339\n",
      "Acer Opalus\n",
      " Sample 2: 13341.6149\n",
      "Acer Opalus\n",
      " Sample 3: 0.0000\n",
      "\n",
      "\n"
     ]
    }
   ],
   "source": [
    "# Print results Acer Capillipes immse\n",
    "print_scores(results_immse[\"acer_opalus\"], \"Acer Opalus immse\")"
   ]
  },
  {
   "cell_type": "markdown",
   "metadata": {},
   "source": [
    "Etapa C"
   ]
  },
  {
   "cell_type": "code",
   "execution_count": null,
   "metadata": {},
   "outputs": [],
   "source": [
    "def extract_simple_3x3_bw(image_path, threshold=128):\n",
    "    \"\"\"\n",
    "    Extract simple 3x3 black and white features from an image.\n",
    "    Args:\n",
    "        image_path (str): Path to the image file.\n",
    "        threshold (int): Threshold value for binarization (0-255).\n",
    "    Returns:\n",
    "        list: List of 18 features (9 zones with black and white counts).\n",
    "    Raises:\n",
    "        ValueError: If the image cannot be loaded.\n",
    "    \"\"\"\n",
    "    img = mpimg.imread(image_path)\n",
    "    if img is None:\n",
    "        raise ValueError(f\"Não foi possível carregar a imagem {image_path}\")\n",
    "    \n",
    "    # Binariza a imagem\n",
    "    binary = (img > threshold).astype(int)  # 1 = branco, 0 = preto\n",
    "    \n",
    "    h, w = binary.shape\n",
    "    h_step, w_step = h // 3, w // 3\n",
    "    \n",
    "    features = []\n",
    "    for i in range(3):\n",
    "        for j in range(3):\n",
    "            zone = binary[i*h_step:(i+1)*h_step, j*w_step:(j+1)*w_step]\n",
    "            black = np.sum(zone == 0)\n",
    "            white = np.sum(zone == 1)\n",
    "            features.append([black, white])\n",
    "    \n",
    "    return features"
   ]
  }
 ],
 "metadata": {
  "kernelspec": {
   "display_name": "Python 3",
   "language": "python",
   "name": "python3"
  },
  "language_info": {
   "codemirror_mode": {
    "name": "ipython",
    "version": 3
   },
   "file_extension": ".py",
   "mimetype": "text/x-python",
   "name": "python",
   "nbconvert_exporter": "python",
   "pygments_lexer": "ipython3",
   "version": "3.13.3"
  }
 },
 "nbformat": 4,
 "nbformat_minor": 2
}
