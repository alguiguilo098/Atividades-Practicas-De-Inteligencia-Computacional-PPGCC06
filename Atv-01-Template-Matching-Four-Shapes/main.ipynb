{
 "cells": [
  {
   "cell_type": "code",
   "execution_count": 51,
   "metadata": {},
   "outputs": [],
   "source": [
    "import matplotlib.image as mpimg\n",
    "import numpy as np\n",
    "import glob as gl \n",
    "import matplotlib.pyplot as plt"
   ]
  },
  {
   "cell_type": "markdown",
   "metadata": {},
   "source": [
    "Etapa A"
   ]
  },
  {
   "cell_type": "code",
   "execution_count": 52,
   "metadata": {},
   "outputs": [],
   "source": [
    "# Corr2\n",
    "def corr2(A, B):\n",
    "    A = A - np.mean(A)\n",
    "    B = B - np.mean(B)\n",
    "    A, B = match_size(A, B)\n",
    "    return np.sum(A * B) / np.sqrt(np.sum(A**2) * np.sum(B**2))\n",
    "\n",
    "def match_size(A, B):\n",
    "    rows = min(A.shape[0], B.shape[0])\n",
    "    cols = min(A.shape[1], B.shape[1])\n",
    "    return A[:rows, :cols], B[:rows, :cols]\n",
    "\n",
    "# IMMSE\n",
    "def immse(X, Y):\n",
    "    X, Y = match_size(X, Y)\n",
    "    return np.mean((X - Y) ** 2)"
   ]
  },
  {
   "cell_type": "code",
   "execution_count": 53,
   "metadata": {},
   "outputs": [],
   "source": [
    "# Load images\n",
    "# Using glob to load images from folders\n",
    "path_circles=gl.glob(\"./Formas/circle/*.png\")\n",
    "path_square=gl.glob(\"./Formas/square/*.png\")\n",
    "path_triangule=gl.glob(\"./Formas/triangle/*.png\")\n",
    "path_star=gl.glob(\"./Formas/star/*.png\")\n",
    "\n",
    "# Get all imagems\n",
    "# Read images and convert to numpy arrays \n",
    "imagens_circles = [np.array(mpimg.imread(img)) for img in path_circles]\n",
    "imagens_square = [np.array(mpimg.imread(img)) for img in path_square]\n",
    "imagens_triangule = [np.array(mpimg.imread(img)) for img in path_triangule]\n",
    "imagens_star = [np.array(mpimg.imread(img)) for img in path_star]"
   ]
  },
  {
   "cell_type": "markdown",
   "metadata": {},
   "source": [
    "A) “template” e três imagens da mesma classe como entradas"
   ]
  },
  {
   "cell_type": "code",
   "execution_count": null,
   "metadata": {},
   "outputs": [],
   "source": [
    "# Select one template image from each class\n",
    "template_circles = imagens_circles[0]\n",
    "template_square = imagens_square[0]\n",
    "template_star = imagens_star[0]\n",
    "template_triangule = imagens_triangule[0]\n",
    "\n",
    "\n",
    "# Compare the template with three sample images from each class\n",
    "results = {\n",
    "    \"trianguele\": [corr2(template_triangule, sample) for sample in imagens_triangule[1:4]],\n",
    "    \"circles\": [corr2(template_circles, sample) for sample in imagens_circles[1:4]],\n",
    "    \"star\": [corr2(template_star, sample) for sample in imagens_star[1:4]],\n",
    "    \"square\": [corr2(template_square, sample) for sample in imagens_square[1:4]],\n",
    "}\n",
    "\n",
    "# Print results\n",
    "for shape, scores in results.items():\n",
    "    print(f\"Correlation scores for {shape}\")\n",
    "    for i in range(len(scores)):\n",
    "        print(f\" Sample {i+1}: {scores[i]:.4f}\")  "
   ]
  },
  {
   "cell_type": "code",
   "execution_count": null,
   "metadata": {},
   "outputs": [],
   "source": [
    "# Select one template image from each class\n",
    "template_circles = imagens_circles[0]\n",
    "template_square = imagens_square[0]\n",
    "template_star = imagens_star[0]\n",
    "template_triangule = imagens_triangule[0]\n",
    "\n",
    "\n",
    "# Compare the template with three sample images from each class\n",
    "results = {\n",
    "    \"trianguele\": [immse(template_triangule, sample) for sample in imagens_triangule[1:4]],\n",
    "    \"circles\": [immse(template_circles, sample) for sample in imagens_circles[1:4]],\n",
    "    \"star\": [immse(template_star, sample) for sample in imagens_star[1:4]],\n",
    "    \"square\": [immse(template_square, sample) for sample in imagens_square[1:4]],\n",
    "}\n",
    "\n",
    "# Print results\n",
    "for shape, scores in results.items():\n",
    "    print(f\"Correlation scores for {shape}\")\n",
    "    for i in range(len(scores)):\n",
    "        print(f\" Sample {i+1}: {scores[i]:.4f}\")  "
   ]
  },
  {
   "cell_type": "markdown",
   "metadata": {},
   "source": [
    "B) Utilizando o mesmo “template”, selecione três imagens de cada uma das outras três classes"
   ]
  },
  {
   "cell_type": "code",
   "execution_count": null,
   "metadata": {},
   "outputs": [],
   "source": [
    "# Plotting the template images\n",
    "template_triangule = imagens_triangule[0]\n",
    "\n",
    "\n",
    "# Compare the template with three sample images from each class\n",
    "results = {\n",
    "    \"circles\": [corr2(template_triangule, sample) for sample in imagens_circles[1:4]],\n",
    "    \"star\": [corr2(template_triangule, sample) for sample in imagens_star[1:4]],\n",
    "    \"square\": [corr2(template_triangule, sample) for sample in imagens_square[1:4]],\n",
    "}\n",
    "\n",
    "# Print results\n",
    "for shape, scores in results.items():\n",
    "    print(f\"Correlation scores for {shape}\")\n",
    "    for i in range(len(scores)):\n",
    "        print(f\" Sample {i+1}: {scores[i]:.4f}\")\n",
    "\n"
   ]
  },
  {
   "cell_type": "code",
   "execution_count": null,
   "metadata": {},
   "outputs": [],
   "source": [
    "# Plotting the template images\n",
    "template_triangule = imagens_triangule[0]\n",
    "\n",
    "\n",
    "# Compare the template with three sample images from each class\n",
    "results = {\n",
    "    \"circles\": [immse(template_triangule, sample) for sample in imagens_circles[1:4]],\n",
    "    \"star\": [immse(template_triangule, sample) for sample in imagens_star[1:4]],\n",
    "    \"square\": [immse(template_triangule, sample) for sample in imagens_square[1:4]],\n",
    "}\n",
    "\n",
    "# Print results\n",
    "for shape, scores in results.items():\n",
    "    print(f\"Correlation scores for {shape}\")\n",
    "    for i in range(len(scores)):\n",
    "        print(f\" Sample {i+1}: {scores[i]:.4f}\")"
   ]
  },
  {
   "cell_type": "markdown",
   "metadata": {},
   "source": [
    "Etapa B"
   ]
  },
  {
   "cell_type": "code",
   "execution_count": null,
   "metadata": {},
   "outputs": [],
   "source": [
    "# Load images\n",
    "# Using glob to load images from folders\n",
    "path_acer_opalus=gl.glob(\"./Folhas/Acer_Capillipes/*.png\")\n",
    "path_acer_mono=gl.glob(\"./Formas/Acer_Mono/*.png\")\n",
    "path_acer_opalus=gl.glob(\"./Formas/Acer_Opalus/*.png\")\n",
    "\n",
    "# Get all imagems\n",
    "# Read images and convert to numpy arrays \n",
    "imagens_circles = [np.array(mpimg.imread(img)) for img in path_acer_opalus]\n",
    "imagens_square = [np.array(mpimg.imread(img)) for img in path_acer_mono]\n",
    "imagens_triangule = [np.array(mpimg.imread(img)) for img in path_acer_opalus]"
   ]
  },
  {
   "cell_type": "code",
   "execution_count": null,
   "metadata": {},
   "outputs": [],
   "source": []
  }
 ],
 "metadata": {
  "kernelspec": {
   "display_name": "Python 3",
   "language": "python",
   "name": "python3"
  },
  "language_info": {
   "codemirror_mode": {
    "name": "ipython",
    "version": 3
   },
   "file_extension": ".py",
   "mimetype": "text/x-python",
   "name": "python",
   "nbconvert_exporter": "python",
   "pygments_lexer": "ipython3",
   "version": "3.13.3"
  }
 },
 "nbformat": 4,
 "nbformat_minor": 2
}
